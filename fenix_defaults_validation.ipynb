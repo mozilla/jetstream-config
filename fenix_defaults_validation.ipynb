{
 "cells": [
  {
   "cell_type": "code",
   "execution_count": 1,
   "id": "d1241553-8c65-48e8-a0a2-b7e03b9c4ff0",
   "metadata": {},
   "outputs": [],
   "source": [
    "from pprint import pprint\n",
    "import numpy as np\n",
    "import pandas as pd\n",
    "# import matplotlib as mpl\n",
    "# import matplotlib.pyplot as plt\n",
    "# import matplotlib.ticker as mtick\n",
    "# import seaborn as sns\n",
    "import datetime as dt"
   ]
  },
  {
   "cell_type": "code",
   "execution_count": 2,
   "id": "17481e26-923f-4339-a87b-0b07a937be93",
   "metadata": {},
   "outputs": [],
   "source": [
    "import jetstream\n",
    "from jetstream.experimenter import ExperimentCollection\n",
    "from jetstream.external_config import ExternalConfigCollection, ExternalConfig, ExternalOutcome, OUTCOMES_DIR, DEFAULTS_DIR, ExternalDefaultConfig\n",
    "from jetstream.cli import AnalysisExecutor, run, SerialExecutorStrategy, All\n",
    "from jetstream import AnalysisPeriod\n",
    "from jetstream.bigquery_client import BigQueryClient\n",
    "from jetstream.util import TemporaryDirectory\n",
    "from jetstream.config import AnalysisSpec, OutcomeSpec\n",
    "from jetstream.experimenter import Experiment as JExperiment\n",
    "from git import Repo\n",
    "import toml\n",
    "from pytz import UTC"
   ]
  },
  {
   "cell_type": "code",
   "execution_count": 3,
   "id": "ef069266-519d-4304-b70c-0da1a37b511d",
   "metadata": {},
   "outputs": [],
   "source": [
    "from mozanalysis.bq import BigQueryContext\n",
    "from mozanalysis.experiment import Experiment\n",
    "from mozanalysis.metrics import Metric\n",
    "from mozanalysis.metrics.desktop import main, events\n",
    "from mozanalysis.exposure import ExposureSignal\n",
    "from mozanalysis.frequentist_stats.bootstrap import compare_branches"
   ]
  },
  {
   "cell_type": "markdown",
   "id": "a67fd16e-ccd8-4abd-bf0e-f442793747f5",
   "metadata": {},
   "source": [
    "# Monkey patch the config loader to use our jetstream-config branch"
   ]
  },
  {
   "cell_type": "code",
   "execution_count": 4,
   "id": "8dcbc724-83f8-47f5-8e19-c1fa455bedf7",
   "metadata": {},
   "outputs": [],
   "source": [
    "@classmethod\n",
    "def from_github_repo(cls) -> \"ExternalConfigCollection\":\n",
    "    \"\"\"Pull in external config files.\"\"\"\n",
    "    # download files to tmp directory\n",
    "    with TemporaryDirectory() as tmp_dir:\n",
    "        repo = Repo.clone_from(cls.JETSTREAM_CONFIG_URL, tmp_dir)\n",
    "        #changed line here\n",
    "        repo.git.checkout('add_search_count_for_fenix')\n",
    "        external_configs = []\n",
    "\n",
    "        for config_file in tmp_dir.glob(\"*.toml\"):\n",
    "            last_modified = next(repo.iter_commits(\"main\", paths=config_file)).committed_date\n",
    "\n",
    "            external_configs.append(\n",
    "                ExternalConfig(\n",
    "                    config_file.stem,\n",
    "                    AnalysisSpec.from_dict(toml.load(config_file)),\n",
    "                    UTC.localize(dt.datetime.utcfromtimestamp(last_modified)),\n",
    "                )\n",
    "            )\n",
    "\n",
    "        outcomes = []\n",
    "\n",
    "        for outcome_file in tmp_dir.glob(f\"**/{OUTCOMES_DIR}/*/*.toml\"):\n",
    "            commit_hash = next(repo.iter_commits(\"main\", paths=outcome_file)).hexsha\n",
    "\n",
    "            outcomes.append(\n",
    "                ExternalOutcome(\n",
    "                    slug=outcome_file.stem,\n",
    "                    spec=OutcomeSpec.from_dict(toml.load(outcome_file)),\n",
    "                    platform=outcome_file.parent.name,\n",
    "                    commit_hash=commit_hash,\n",
    "                )\n",
    "            )\n",
    "\n",
    "        default_configs = []\n",
    "        for default_config_file in tmp_dir.glob(f\"**/{DEFAULTS_DIR}/*.toml\"):\n",
    "            last_modified = next(\n",
    "                repo.iter_commits(\"main\", paths=default_config_file)\n",
    "            ).committed_date\n",
    "\n",
    "            default_configs.append(\n",
    "                ExternalDefaultConfig(\n",
    "                    default_config_file.stem,\n",
    "                    AnalysisSpec.from_dict(toml.load(default_config_file)),\n",
    "                    UTC.localize(dt.datetime.utcfromtimestamp(last_modified)),\n",
    "                )\n",
    "            )\n",
    "\n",
    "    return cls(external_configs, outcomes, default_configs)"
   ]
  },
  {
   "cell_type": "code",
   "execution_count": 5,
   "id": "28992f9e-4d51-4ae7-aa31-b165f084032f",
   "metadata": {},
   "outputs": [],
   "source": [
    "ExternalConfigCollection.from_github_repo = from_github_repo"
   ]
  },
  {
   "cell_type": "markdown",
   "id": "bb47a775-c53f-44b9-8d14-eb979b688432",
   "metadata": {},
   "source": [
    "# Configure mozanalysis/jetstream classes"
   ]
  },
  {
   "cell_type": "code",
   "execution_count": 6,
   "id": "b3d7d65c-f004-4f0c-a08a-7606527a414e",
   "metadata": {},
   "outputs": [],
   "source": [
    "# Each experiment has an enrollment period and an observation period.\n",
    "# We analyze data from each Firefox client *relative* to their enrollment date, as opposed to an absolute calendar date.\n",
    "NUM_DATES_ENROLLMENT = 7\n",
    "ANALYSIS_WINDOW_LENGTH = 7\n",
    "NUM_ANALYSIS_WINDOWS = 3"
   ]
  },
  {
   "cell_type": "code",
   "execution_count": 7,
   "id": "bcc61a9f-1599-4fb6-8024-03bf740cb0c8",
   "metadata": {},
   "outputs": [],
   "source": [
    "PROJECT_ID = 'moz-fx-data-bq-data-science'\n",
    "DATASET_ID = 'dberry'"
   ]
  },
  {
   "cell_type": "code",
   "execution_count": 8,
   "id": "db205e05-e052-476d-8898-1feda47b45fa",
   "metadata": {},
   "outputs": [],
   "source": [
    "# Experiment set up\n",
    "bq_client = BigQueryClient(PROJECT_ID, DATASET_ID)\n",
    "\n",
    "bq_context = BigQueryContext(\n",
    "  dataset_id=DATASET_ID,  # BQ tables will be created in this namespace\n",
    "  project_id=PROJECT_ID\n",
    ")\n",
    "\n",
    "experiment = Experiment(\n",
    "  experiment_slug='android-nightly-sponsored-shortcuts-validation',  # unique ID for Nimbus experiment\n",
    "  start_date='2022-03-16',\n",
    "  num_dates_enrollment = NUM_DATES_ENROLLMENT\n",
    ")\n",
    "  "
   ]
  },
  {
   "cell_type": "code",
   "execution_count": 9,
   "id": "5de76248-e470-4499-a4f1-0559e9bedd54",
   "metadata": {},
   "outputs": [],
   "source": [
    "ae = AnalysisExecutor(\n",
    "    project_id=PROJECT_ID,\n",
    "    dataset_id=DATASET_ID,\n",
    "    bucket='dberry-simulated-aa-tests-temporary',\n",
    "    date=All,\n",
    "    experiment_slugs=[experiment.experiment_slug]\n",
    ")"
   ]
  },
  {
   "cell_type": "markdown",
   "id": "b7f7d48f-27cf-4481-9607-b8bdd2cd0200",
   "metadata": {},
   "source": [
    "# Generate the run configs\n",
    "Here we're manually executing the steps that jetstream would do to build the job, just to confirm that they're being picked up"
   ]
  },
  {
   "cell_type": "code",
   "execution_count": 10,
   "id": "4899dfa4-51ed-4581-9c6a-dc089a412887",
   "metadata": {},
   "outputs": [],
   "source": [
    "run_configs = ae._experiment_configs_to_analyse(ExperimentCollection.from_experimenter, ExternalConfigCollection.from_github_repo)"
   ]
  },
  {
   "cell_type": "code",
   "execution_count": 11,
   "id": "30affd07-9e30-43e9-8bf5-e392a4e2f41b",
   "metadata": {},
   "outputs": [],
   "source": [
    "metrics_week = set([summary.metric.to_mozanalysis_metric() for summary in run_configs[0].metrics[AnalysisPeriod.WEEK]])"
   ]
  },
  {
   "cell_type": "code",
   "execution_count": 12,
   "id": "d9c3f905-e17b-40b4-af4d-535b80aeb7fb",
   "metadata": {},
   "outputs": [],
   "source": [
    "metrics_overall = set([summary.metric.to_mozanalysis_metric() for summary in run_configs[0].metrics[AnalysisPeriod.OVERALL]])"
   ]
  },
  {
   "cell_type": "code",
   "execution_count": 20,
   "id": "c481034c-c357-472f-bf7a-692bc30f2d80",
   "metadata": {},
   "outputs": [],
   "source": [
    "# you should see 'search_count' and 'serp_ad_clicks' here now"
   ]
  },
  {
   "cell_type": "code",
   "execution_count": 13,
   "id": "ff7f379e-114e-4c73-8706-123a1e394230",
   "metadata": {},
   "outputs": [
    {
     "data": {
      "text/plain": [
       "['total_uri_count',\n",
       " 'retained',\n",
       " 'serp_ad_clicks',\n",
       " 'days_of_use',\n",
       " 'tagged_sap_searches',\n",
       " 'search_count',\n",
       " 'active_hours']"
      ]
     },
     "execution_count": 13,
     "metadata": {},
     "output_type": "execute_result"
    }
   ],
   "source": [
    "[m.name for m in metrics_week]"
   ]
  },
  {
   "cell_type": "code",
   "execution_count": 14,
   "id": "005871ee-8af6-4dff-a4ed-101bcbf22d3a",
   "metadata": {},
   "outputs": [
    {
     "data": {
      "text/plain": [
       "['tagged_follow_on_searches',\n",
       " 'searches_with_ads',\n",
       " 'total_uri_count',\n",
       " 'serp_ad_clicks',\n",
       " 'days_of_use',\n",
       " 'search_count',\n",
       " 'active_hours',\n",
       " 'organic_searches']"
      ]
     },
     "execution_count": 14,
     "metadata": {},
     "output_type": "execute_result"
    }
   ],
   "source": [
    "[m.name for m in metrics_overall]"
   ]
  },
  {
   "cell_type": "markdown",
   "id": "6f830d95-d2f9-43a3-83f8-6d38fc48359b",
   "metadata": {},
   "source": [
    "# Rerun analysis"
   ]
  },
  {
   "cell_type": "code",
   "execution_count": 15,
   "id": "99b5cc8c-2a23-411b-b22b-9de1ea8c45e5",
   "metadata": {},
   "outputs": [
    {
     "name": "stderr",
     "output_type": "stream",
     "text": [
      "2022-04-11 16:44:50,335 - distributed.diskutils - INFO - Found stale lock file and directory '/Users/dberry/jetstream-config_2022_04_11_ANSSV_debugging/dask-worker-space/worker-opi7kb8y', purging\n",
      "2022-04-11 16:44:50,336 - distributed.diskutils - INFO - Found stale lock file and directory '/Users/dberry/jetstream-config_2022_04_11_ANSSV_debugging/dask-worker-space/worker-mpfvd1tq', purging\n",
      "2022-04-11 16:44:50,336 - distributed.diskutils - INFO - Found stale lock file and directory '/Users/dberry/jetstream-config_2022_04_11_ANSSV_debugging/dask-worker-space/worker-fqh7_fi0', purging\n",
      "2022-04-11 16:44:50,336 - distributed.diskutils - INFO - Found stale lock file and directory '/Users/dberry/jetstream-config_2022_04_11_ANSSV_debugging/dask-worker-space/worker-vu637d1o', purging\n",
      "2022-04-11 16:44:50,336 - distributed.diskutils - INFO - Found stale lock file and directory '/Users/dberry/jetstream-config_2022_04_11_ANSSV_debugging/dask-worker-space/worker-rulf48kv', purging\n",
      "2022-04-11 16:44:50,336 - distributed.diskutils - INFO - Found stale lock file and directory '/Users/dberry/jetstream-config_2022_04_11_ANSSV_debugging/dask-worker-space/worker-xjliaym3', purging\n",
      "2022-04-11 16:44:50,337 - distributed.diskutils - INFO - Found stale lock file and directory '/Users/dberry/jetstream-config_2022_04_11_ANSSV_debugging/dask-worker-space/worker-82_abul_', purging\n",
      "2022-04-11 16:44:50,337 - distributed.diskutils - INFO - Found stale lock file and directory '/Users/dberry/jetstream-config_2022_04_11_ANSSV_debugging/dask-worker-space/worker-dkwwecjb', purging\n",
      "2022-04-11 16:44:50,337 - distributed.diskutils - INFO - Found stale lock file and directory '/Users/dberry/jetstream-config_2022_04_11_ANSSV_debugging/dask-worker-space/worker-42u6buqs', purging\n",
      "2022-04-11 16:44:50,337 - distributed.diskutils - INFO - Found stale lock file and directory '/Users/dberry/jetstream-config_2022_04_11_ANSSV_debugging/dask-worker-space/worker-lbkgzamz', purging\n"
     ]
    },
    {
     "data": {
      "text/plain": [
       "True"
      ]
     },
     "execution_count": 15,
     "metadata": {},
     "output_type": "execute_result"
    }
   ],
   "source": [
    "ae.execute(\n",
    "    strategy=SerialExecutorStrategy(PROJECT_ID, DATASET_ID, ae.bucket)\n",
    ")"
   ]
  },
  {
   "cell_type": "markdown",
   "id": "6a50f2b6-a75c-4193-992a-563251b18b15",
   "metadata": {},
   "source": [
    "# Get analysis results"
   ]
  },
  {
   "cell_type": "code",
   "execution_count": 16,
   "id": "4610bc9c-c91d-4448-9aaa-f465d34c3ab3",
   "metadata": {},
   "outputs": [],
   "source": [
    "experiment_reanalysis_metrics_1 = bq_client.table_to_dataframe('statistics_android_nightly_sponsored_shortcuts_validation_week_1')\n",
    "experiment_reanalysis_metrics_1.loc[:, 'week'] = 1\n",
    "experiment_reanalysis_metrics_2 = bq_client.table_to_dataframe('statistics_android_nightly_sponsored_shortcuts_validation_week_2')\n",
    "experiment_reanalysis_metrics_2.loc[:, 'week'] = 2\n",
    "experiment_reanalysis_metrics = pd.concat([experiment_reanalysis_metrics_1, experiment_reanalysis_metrics_2])"
   ]
  },
  {
   "cell_type": "markdown",
   "id": "cd29fbed-8f21-4126-acc5-d14c747b9e86",
   "metadata": {},
   "source": [
    "# Compare against UI"
   ]
  },
  {
   "cell_type": "code",
   "execution_count": 17,
   "id": "5195d997-f458-41b9-8d4c-8629873c114a",
   "metadata": {},
   "outputs": [],
   "source": [
    "metrics_vs_prod = (\n",
    "    experiment_reanalysis_metrics\n",
    "    .loc[(\n",
    "        experiment_reanalysis_metrics.metric.isin(['days_of_use', 'search_count']) & \n",
    "        (experiment_reanalysis_metrics.statistic == 'mean') &\n",
    "        (experiment_reanalysis_metrics.comparison == 'relative_uplift')\n",
    "    )]\n",
    "    .sort_values(['metric', 'week'])    \n",
    "    [['metric', 'week', 'lower', 'upper']]\n",
    ")\n",
    "metrics_vs_prod.loc[:, 'lower'] = (metrics_vs_prod.lower*100).round(1)\n",
    "metrics_vs_prod.loc[:, 'upper'] = (metrics_vs_prod.upper*100).round(1)"
   ]
  },
  {
   "cell_type": "code",
   "execution_count": 18,
   "id": "dfc90e76-fd04-4708-add1-7e8867461de1",
   "metadata": {},
   "outputs": [],
   "source": [
    "# days_of_use should approximately equal to https://experimenter.services.mozilla.com/nimbus/android-nightly-sponsored-shortcuts-validation/results#results_summary\n",
    "# some slight deviation is expected due to the random nature of the bootstrap confidence intervals"
   ]
  },
  {
   "cell_type": "code",
   "execution_count": 19,
   "id": "b6e9f42a-f2ea-40fc-8d51-ef6840e13b65",
   "metadata": {},
   "outputs": [
    {
     "data": {
      "text/html": [
       "<div>\n",
       "<style scoped>\n",
       "    .dataframe tbody tr th:only-of-type {\n",
       "        vertical-align: middle;\n",
       "    }\n",
       "\n",
       "    .dataframe tbody tr th {\n",
       "        vertical-align: top;\n",
       "    }\n",
       "\n",
       "    .dataframe thead th {\n",
       "        text-align: right;\n",
       "    }\n",
       "</style>\n",
       "<table border=\"1\" class=\"dataframe\">\n",
       "  <thead>\n",
       "    <tr style=\"text-align: right;\">\n",
       "      <th></th>\n",
       "      <th>metric</th>\n",
       "      <th>week</th>\n",
       "      <th>lower</th>\n",
       "      <th>upper</th>\n",
       "    </tr>\n",
       "  </thead>\n",
       "  <tbody>\n",
       "    <tr>\n",
       "      <th>637</th>\n",
       "      <td>days_of_use</td>\n",
       "      <td>1</td>\n",
       "      <td>-1.6</td>\n",
       "      <td>1.0</td>\n",
       "    </tr>\n",
       "    <tr>\n",
       "      <th>637</th>\n",
       "      <td>days_of_use</td>\n",
       "      <td>2</td>\n",
       "      <td>-2.3</td>\n",
       "      <td>1.3</td>\n",
       "    </tr>\n",
       "    <tr>\n",
       "      <th>649</th>\n",
       "      <td>search_count</td>\n",
       "      <td>1</td>\n",
       "      <td>-4.7</td>\n",
       "      <td>2.4</td>\n",
       "    </tr>\n",
       "    <tr>\n",
       "      <th>648</th>\n",
       "      <td>search_count</td>\n",
       "      <td>2</td>\n",
       "      <td>-5.0</td>\n",
       "      <td>2.8</td>\n",
       "    </tr>\n",
       "  </tbody>\n",
       "</table>\n",
       "</div>"
      ],
      "text/plain": [
       "           metric  week  lower  upper\n",
       "637   days_of_use     1   -1.6    1.0\n",
       "637   days_of_use     2   -2.3    1.3\n",
       "649  search_count     1   -4.7    2.4\n",
       "648  search_count     2   -5.0    2.8"
      ]
     },
     "execution_count": 19,
     "metadata": {},
     "output_type": "execute_result"
    }
   ],
   "source": [
    "metrics_vs_prod"
   ]
  },
  {
   "cell_type": "code",
   "execution_count": null,
   "id": "82673cc4-81c1-4cc2-bc72-39a930cfd86e",
   "metadata": {},
   "outputs": [],
   "source": []
  }
 ],
 "metadata": {
  "kernelspec": {
   "display_name": "jetstream_2022_04_11_ANSVV_debugging",
   "language": "python",
   "name": "jetstream_2022_04_11_ansvv_debugging"
  },
  "language_info": {
   "codemirror_mode": {
    "name": "ipython",
    "version": 3
   },
   "file_extension": ".py",
   "mimetype": "text/x-python",
   "name": "python",
   "nbconvert_exporter": "python",
   "pygments_lexer": "ipython3",
   "version": "3.9.10"
  }
 },
 "nbformat": 4,
 "nbformat_minor": 5
}
